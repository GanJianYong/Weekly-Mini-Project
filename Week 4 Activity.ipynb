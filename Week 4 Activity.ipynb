{
 "cells": [
  {
   "cell_type": "code",
   "execution_count": 1,
   "id": "692bd2e4",
   "metadata": {},
   "outputs": [
    {
     "data": {
      "text/plain": [
       "True"
      ]
     },
     "execution_count": 1,
     "metadata": {},
     "output_type": "execute_result"
    }
   ],
   "source": [
    "import sys\n",
    "# Python 3.7 is required\n",
    "assert sys.version_info >= (3,7)\n",
    "\n",
    "import cv2 as cv\n",
    "import numpy as np\n",
    "\n",
    "# For reproducibility,\n",
    "np.random.seed(99)\n",
    "\n",
    "# Make sure that optimization is enabled\n",
    "if not cv.useOptimized():\n",
    "    cv.setUseOptimized(True)\n",
    "\n",
    "cv.useOptimized()"
   ]
  },
  {
   "cell_type": "markdown",
   "id": "8b3890ca",
   "metadata": {},
   "source": [
    "###### Question 1\n",
    "- using concatenate\n",
    "- display images in different windows simultaneously"
   ]
  },
  {
   "cell_type": "code",
   "execution_count": 2,
   "id": "32191cf6",
   "metadata": {},
   "outputs": [],
   "source": [
    "# display 2 images simultaneously\n",
    "# axis = 1 is horizontal; axis = 0 is vertical\n",
    "\n",
    "img1 = cv.imread('flower.jfif')\n",
    "img2 = cv.imread('flower.jfif')\n",
    "imgAdd = np.concatenate((img1, img2), axis=1)\n",
    "\n",
    "cv.imshow('Combine', imgAdd)\n",
    "cv.waitKey(0)\n",
    "cv.destroyAllWindows()"
   ]
  },
  {
   "cell_type": "code",
   "execution_count": 3,
   "id": "f8b06b93",
   "metadata": {},
   "outputs": [],
   "source": [
    "# display 2 images in different windows simultaneously\n",
    "\n",
    "img1 = cv.imread('flower.jfif')\n",
    "img2 = cv.imread('flower.jfif')\n",
    "cv.imshow('no1', img1)\n",
    "cv.imshow('no2', img2)\n",
    "\n",
    "cv.waitKey(0)\n",
    "cv.destroyAllWindows()"
   ]
  },
  {
   "cell_type": "markdown",
   "id": "6028cc6e",
   "metadata": {},
   "source": [
    "###### Question 2"
   ]
  },
  {
   "cell_type": "code",
   "execution_count": 4,
   "id": "b2801da6",
   "metadata": {},
   "outputs": [],
   "source": [
    "# Create a VideoCapture object\n",
    "cap = cv.VideoCapture('img_pexels.mp4')\n",
    "\n",
    "width = int(cap.get(3))\n",
    "height = int(cap.get(4))\n",
    "fourcc = cv.VideoWriter_fourcc('M', 'J', 'P', 'G')  #.avi\n",
    "fps = 20\n",
    "out = cv.VideoWriter('out.avi', fourcc, fps, (width, height))\n",
    "\n",
    "# Check if the object has been created successfully\n",
    "if not cap.isOpened():\n",
    "    print(\"Unable to create video\")\n",
    "\n",
    "# Read until the video is completed.\n",
    "while cap.isOpened():\n",
    "    ret, frame = cap.read()\n",
    "    \n",
    "    # if frame is read then ret is True\n",
    "    if not ret:\n",
    "        print(\"Can't receive frame.\")\n",
    "        break\n",
    "        \n",
    "    # Horizontal flip (left and right)\n",
    "    frame = cv.flip(frame, 1)\n",
    "    # write the flipped frame\n",
    "    out.write(frame)\n",
    "    \n",
    "    cv.namedWindow('frame', cv.WINDOW_NORMAL)\n",
    "    cv.imshow('frame', frame)\n",
    "    if cv.waitKey(1) & 0xFF == 27:\n",
    "        break\n",
    "\n",
    "# destroy the constructor\n",
    "cap.release()\n",
    "out.release()\n",
    "cv.destroyAllWindows()"
   ]
  },
  {
   "cell_type": "markdown",
   "id": "506ac7ad",
   "metadata": {},
   "source": [
    "###### Question 3"
   ]
  },
  {
   "cell_type": "code",
   "execution_count": 5,
   "id": "09be8985",
   "metadata": {},
   "outputs": [],
   "source": [
    "#creating the image\n",
    "x = np.zeros((200, 200), dtype = np.uint8)\n",
    "y = np.ones((200, 200), dtype = np.uint8)\n",
    "xy = np.concatenate((x,y))\n",
    "\n",
    "#random noise color\n",
    "change_color = cv.cvtColor(xy, cv.COLOR_GRAY2BGR) \n",
    "noise = np.random.normal(change_color)\n",
    "\n",
    "#grayscale\n",
    "noise2 = np.random.normal(xy)\n",
    "\n",
    "#custom width and height\n",
    "noise2 = noise2.reshape(noise.shape[1], noise.shape[0]).astype('uint8')\n",
    "\n",
    "cv.imshow('NoiseColor', noise)\n",
    "cv.imshow('GrayScale', noise2)\n",
    "cv.waitKey(0)\n",
    "cv.destroyAllWindows()"
   ]
  }
 ],
 "metadata": {
  "kernelspec": {
   "display_name": "Python 3",
   "language": "python",
   "name": "python3"
  },
  "language_info": {
   "codemirror_mode": {
    "name": "ipython",
    "version": 3
   },
   "file_extension": ".py",
   "mimetype": "text/x-python",
   "name": "python",
   "nbconvert_exporter": "python",
   "pygments_lexer": "ipython3",
   "version": "3.8.8"
  }
 },
 "nbformat": 4,
 "nbformat_minor": 5
}
