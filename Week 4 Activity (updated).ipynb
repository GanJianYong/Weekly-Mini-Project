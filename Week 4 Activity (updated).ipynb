{
 "cells": [
  {
   "cell_type": "code",
   "execution_count": 2,
   "id": "692bd2e4",
   "metadata": {},
   "outputs": [
    {
     "data": {
      "text/plain": [
       "True"
      ]
     },
     "execution_count": 2,
     "metadata": {},
     "output_type": "execute_result"
    }
   ],
   "source": [
    "import sys\n",
    "# Python 3.7 is required\n",
    "assert sys.version_info >= (3,7)\n",
    "\n",
    "import cv2 as cv\n",
    "import numpy as np\n",
    "\n",
    "# For reproducibility,\n",
    "np.random.seed(99)\n",
    "\n",
    "# Make sure that optimization is enabled\n",
    "if not cv.useOptimized():\n",
    "    cv.setUseOptimized(True)\n",
    "\n",
    "cv.useOptimized()"
   ]
  },
  {
   "cell_type": "markdown",
   "id": "8b3890ca",
   "metadata": {},
   "source": [
    "###### Question 1\n",
    "- Suggest two ways and write codes to display two images simultaneously. You can use any image snapped from your handphone, downloaded from internet or images from week 4 materials on MS teams. The two images are a `color image` and its corresponding `grayscale image`\n",
    "    - method 1: using concatenate\n",
    "    - method 2: display images in different windows simultaneously"
   ]
  },
  {
   "cell_type": "code",
   "execution_count": 5,
   "id": "32191cf6",
   "metadata": {},
   "outputs": [],
   "source": [
    "# display 2 images simultaneously\n",
    "\n",
    "img1 = cv.imread('flower.jfif')\n",
    "img2 = cv.imread('flower.jfif', 0)\n",
    "img2_3D = cv.cvtColor(img2, cv.COLOR_GRAY2BGR)\n",
    "imgAdd = np.hstack((img1, img2_3D))\n",
    "\n",
    "cv.imshow('Combine', imgAdd)\n",
    "cv.waitKey(0)\n",
    "cv.destroyAllWindows()"
   ]
  },
  {
   "cell_type": "code",
   "execution_count": 6,
   "id": "f8b06b93",
   "metadata": {},
   "outputs": [],
   "source": [
    "# display 2 images in different windows simultaneously\n",
    "\n",
    "img1 = cv.imread('flower.jfif')\n",
    "img2 = cv.imread('flower.jfif', 0)\n",
    "cv.imshow('no1', img1)\n",
    "cv.imshow('no2', img2)\n",
    "\n",
    "cv.waitKey(0)\n",
    "cv.destroyAllWindows()"
   ]
  },
  {
   "cell_type": "markdown",
   "id": "6028cc6e",
   "metadata": {},
   "source": [
    "###### Question 2\n",
    "- Write codes that performs the following:\n",
    "    - Load the video “img_pexels.mp4” into the Python environment, resize it and display the videos with smaller frames (The frames can be of any size, as long as it is smaller). You can specify an arbitrary frame rate.\n",
    "    - Save it as a separate files: “smaller_img_pexels.avi” or \"smaller_img_pexels.mp4\""
   ]
  },
  {
   "cell_type": "code",
   "execution_count": 19,
   "id": "b2801da6",
   "metadata": {},
   "outputs": [],
   "source": [
    "# Create a VideoCapture object\n",
    "cap = cv.VideoCapture('img_pexels.mp4')\n",
    "\n",
    "new_width = int(cap.get(3)*0.5)\n",
    "new_height = int(cap.get(3)*0.5)\n",
    "fourcc = cv.VideoWriter_fourcc(*'XVID')\n",
    "fps = 20\n",
    "out = cv.VideoWriter('smaller_img_pexels.mp4', fourcc, fps, (new_width, new_height))\n",
    "\n",
    "# Check if the object has been created successfully\n",
    "if not cap.isOpened():\n",
    "    print(\"Unable to create video\")\n",
    "\n",
    "# Read until the video is completed.\n",
    "while cap.isOpened():\n",
    "    ret, frame = cap.read()\n",
    "    \n",
    "    # if frame is read then ret is True\n",
    "    if not ret:\n",
    "        print(\"Can't receive frame.\")\n",
    "        break\n",
    "        \n",
    "    resize = cv.resize(frame, (new_width, new_height))\n",
    "    \n",
    "    # write the resize frame\n",
    "    out.write(resize)\n",
    "    \n",
    "    cv.imshow('frame', resize)\n",
    "    if cv.waitKey(1) & 0xFF == 27:\n",
    "        break\n",
    "\n",
    "# destroy the constructor\n",
    "cap.release()\n",
    "out.release()\n",
    "cv.destroyAllWindows()"
   ]
  },
  {
   "cell_type": "markdown",
   "id": "506ac7ad",
   "metadata": {},
   "source": [
    "###### Question 3\n",
    "- Create a random noise color and grayscale image. You can set a custom width and height. (Hint: use Numpy functions like np.array and np.reshape.)"
   ]
  },
  {
   "cell_type": "code",
   "execution_count": 24,
   "id": "09be8985",
   "metadata": {},
   "outputs": [],
   "source": [
    "#creating the image\n",
    "x = np.zeros((200, 200), dtype = np.uint8)\n",
    "y = np.ones((200, 200), dtype = np.uint8)\n",
    "xy = np.concatenate((x,y))\n",
    "\n",
    "#random noise color\n",
    "change_color = cv.cvtColor(xy, cv.COLOR_GRAY2BGR) \n",
    "noise = np.random.normal(change_color)\n",
    "\n",
    "#grayscale\n",
    "noise2 = np.random.normal(xy)\n",
    "\n",
    "#custom width and height\n",
    "noise2 = noise2.reshape(noise.shape[1], noise.shape[0]).astype('uint8')\n",
    "\n",
    "cv.imshow('NoiseColor', noise)\n",
    "cv.imshow('GrayScale', noise2)\n",
    "cv.waitKey(0)\n",
    "cv.destroyAllWindows()"
   ]
  }
 ],
 "metadata": {
  "kernelspec": {
   "display_name": "Python 3",
   "language": "python",
   "name": "python3"
  },
  "language_info": {
   "codemirror_mode": {
    "name": "ipython",
    "version": 3
   },
   "file_extension": ".py",
   "mimetype": "text/x-python",
   "name": "python",
   "nbconvert_exporter": "python",
   "pygments_lexer": "ipython3",
   "version": "3.8.8"
  }
 },
 "nbformat": 4,
 "nbformat_minor": 5
}
