{
 "cells": [
  {
   "cell_type": "code",
   "execution_count": 1,
   "id": "3c77936e",
   "metadata": {},
   "outputs": [
    {
     "data": {
      "text/plain": [
       "True"
      ]
     },
     "execution_count": 1,
     "metadata": {},
     "output_type": "execute_result"
    }
   ],
   "source": [
    "import sys\n",
    "# Python 3.7 is required\n",
    "assert sys.version_info >= (3,7)\n",
    "\n",
    "import cv2 as cv\n",
    "import numpy as np\n",
    "import matplotlib.pyplot as plt\n",
    "\n",
    "# Make sure that optimization is enabled\n",
    "if not cv.useOptimized():\n",
    "    cv.setUseOptimized(True)\n",
    "\n",
    "cv.useOptimized()"
   ]
  },
  {
   "cell_type": "markdown",
   "id": "c9c79857",
   "metadata": {},
   "source": [
    "###### Question 1\n",
    "- Write a program to segment the boat and the people on it from the background. \n",
    "- Apply Otsu thresholding.\n",
    "- Draw bounding box to identify the region where the boat and people are located."
   ]
  },
  {
   "cell_type": "code",
   "execution_count": 45,
   "id": "516ad539",
   "metadata": {},
   "outputs": [],
   "source": [
    "# Read the color image\n",
    "image = cv.imread(\"boat.jpg\")\n",
    " \n",
    "# Make a copy\n",
    "new_image = image.copy()\n",
    " \n",
    "# Convert the image to grayscale\n",
    "gray = cv.cvtColor(image, cv.COLOR_BGR2GRAY)\n",
    " \n",
    "# Display the grayscale image\n",
    "cv.imshow('Gray image', gray)  \n",
    "cv.waitKey(0) \n",
    "cv.destroyAllWindows() \n",
    " \n",
    "# Convert the grayscale image to binary\n",
    "blur = cv.GaussianBlur(gray, (5, 5), 0)   # the third argument here is standard deviation\n",
    "ret, th3 = cv.threshold(blur, 0, 255, cv.THRESH_BINARY+cv.THRESH_OTSU)\n",
    "\n",
    "#ret, binary = cv.threshold(gray, 100, 255, cv.THRESH_OTSU)\n",
    " \n",
    "# Display the binary image\n",
    "cv.imshow('Binary image', binary)\n",
    "cv.waitKey(0)\n",
    "cv.destroyAllWindows()\n",
    " \n",
    "# To detect object contours, we want a black background and a white \n",
    "# foreground, so we invert the image (i.e. 255 - pixel value)\n",
    "inverted_binary = ~binary\n",
    "cv.imshow('Inverted binary image', inverted_binary)\n",
    "cv.waitKey(0) \n",
    "cv.destroyAllWindows()\n",
    " \n",
    "# Find the contours on the inverted binary image, and store them in a list\n",
    "# Contours are drawn around white blobs.\n",
    "# hierarchy variable contains info on the relationship between the contours\n",
    "contours, hierarchy = cv.findContours(inverted_binary, cv.RETR_LIST, cv.CHAIN_APPROX_NONE)\n",
    "     \n",
    "# Draw the contours (in red) on the original image and display the result\n",
    "# Input color code is in BGR (blue, green, red) format\n",
    "# -1 means to draw all contours\n",
    "with_contours = cv.drawContours(image, contours, -1, (255,0,255), 3)\n",
    "cv.imshow('Detected contours', with_contours)\n",
    "cv.waitKey(0)\n",
    "cv.destroyAllWindows()\n",
    "\n",
    "x, y, w, h = cv.boundingRect(c)\n",
    "cv.rectangle(with_contours,(x,y), (x+w,y+h), (255,0,0), 5)\n",
    "\n",
    "# Make sure contour area is large enough\n",
    "if (cv.contourArea(c)) > 10:\n",
    "    cv.rectangle(with_contours,(x,y), (x+w,y+h), (255,0,0), 5)\n",
    "         \n",
    "cv.imshow('All contours with bounding box', with_contours)\n",
    "cv.waitKey(0)\n",
    "cv.destroyAllWindows()"
   ]
  },
  {
   "cell_type": "markdown",
   "id": "629fe40b",
   "metadata": {},
   "source": [
    "###### Question 2\n",
    "- Write a program to visualize the effect of size of structuring element on the morphological transformation (e.g. erosion, dilation, opening, and closing).\n",
    "- Load the 'leaf.jfif' and perform thresholding to segment the leaf from the background.\n",
    "- Create a GUI containing trackbar to control the size of structuring element and display the resulting image on a window alongside the trackbar."
   ]
  },
  {
   "cell_type": "code",
   "execution_count": 19,
   "id": "6575378b",
   "metadata": {},
   "outputs": [],
   "source": [
    "img = cv.imread('leaf.jfif', 0)\n",
    "\n",
    "#blur = cv.GaussianBlur(img, (5, 5), 0)\n",
    "\n",
    "# save in directory\n",
    "kernel = np.ones((5,5), np.uint8)\n",
    "\n",
    "def trackbar(x):\n",
    "    _, img_binary = cv.threshold(blur, x, 255, cv.THRESH_BINARY)\n",
    "    erosion = cv.erode(img_binary, kernel, iterations = 1)\n",
    "    cv.imshow('window', np.vstack([img_binary, erosion]))\n",
    "\n",
    "\n",
    "cv.namedWindow('window')\n",
    "cv.createTrackbar('threshold', 'window', 100, 255, trackbar)\n",
    "\n",
    "cv.waitKey(0)\n",
    "cv.destroyAllWindows()"
   ]
  },
  {
   "cell_type": "code",
   "execution_count": 18,
   "id": "54d64b59",
   "metadata": {},
   "outputs": [],
   "source": [
    "#dilation\n",
    "img = cv.imread('leaf.jfif', 0)\n",
    "\n",
    "blur = cv.GaussianBlur(img, (5, 5), 0)\n",
    "\n",
    "# save in directory\n",
    "kernel = np.ones((5,5), np.uint8)\n",
    "\n",
    "def trackbar(x):\n",
    "    _, img_binary = cv.threshold(blur, x, 255, cv.THRESH_BINARY)\n",
    "    dilation = cv.dilate(img_binary, kernel, iterations = 1)\n",
    "    cv.imshow('window', np.vstack([img_binary, dilation]))\n",
    "\n",
    "\n",
    "cv.namedWindow('window')\n",
    "cv.createTrackbar('threshold', 'window', 100, 255, trackbar)\n",
    "\n",
    "cv.waitKey(0)\n",
    "cv.destroyAllWindows()"
   ]
  },
  {
   "cell_type": "markdown",
   "id": "23587a96",
   "metadata": {},
   "source": [
    "###### Question 3\n",
    "- Apply the steps shown in exercise 4 to segment the porcelain from these images: \"porcelain1.jfif\" - \"porcelain5.jfif\"."
   ]
  },
  {
   "cell_type": "code",
   "execution_count": 24,
   "id": "c40bac7d",
   "metadata": {},
   "outputs": [
    {
     "ename": "TypeError",
     "evalue": "Image data of dtype <U9 cannot be converted to float",
     "output_type": "error",
     "traceback": [
      "\u001b[1;31m---------------------------------------------------------------------------\u001b[0m",
      "\u001b[1;31mTypeError\u001b[0m                                 Traceback (most recent call last)",
      "\u001b[1;32m<ipython-input-24-5ba46fd847e0>\u001b[0m in \u001b[0;36m<module>\u001b[1;34m\u001b[0m\n\u001b[0;32m     13\u001b[0m     \u001b[1;31m# plt.show()\u001b[0m\u001b[1;33m\u001b[0m\u001b[1;33m\u001b[0m\u001b[1;33m\u001b[0m\u001b[0m\n\u001b[0;32m     14\u001b[0m \u001b[1;33m\u001b[0m\u001b[0m\n\u001b[1;32m---> 15\u001b[1;33m     \u001b[0max\u001b[0m\u001b[1;33m[\u001b[0m\u001b[0mi\u001b[0m\u001b[1;33m]\u001b[0m\u001b[1;33m[\u001b[0m\u001b[1;36m0\u001b[0m\u001b[1;33m]\u001b[0m\u001b[1;33m.\u001b[0m\u001b[0mimshow\u001b[0m\u001b[1;33m(\u001b[0m\u001b[0mpant_list\u001b[0m\u001b[1;33m[\u001b[0m\u001b[0mi\u001b[0m\u001b[1;33m]\u001b[0m\u001b[1;33m)\u001b[0m\u001b[1;33m\u001b[0m\u001b[1;33m\u001b[0m\u001b[0m\n\u001b[0m\u001b[0;32m     16\u001b[0m     \u001b[0max\u001b[0m\u001b[1;33m[\u001b[0m\u001b[0mi\u001b[0m\u001b[1;33m]\u001b[0m\u001b[1;33m[\u001b[0m\u001b[1;36m1\u001b[0m\u001b[1;33m]\u001b[0m\u001b[1;33m.\u001b[0m\u001b[0mimshow\u001b[0m\u001b[1;33m(\u001b[0m\u001b[0mresults\u001b[0m\u001b[1;33m[\u001b[0m\u001b[0mi\u001b[0m\u001b[1;33m]\u001b[0m\u001b[1;33m)\u001b[0m\u001b[1;33m\u001b[0m\u001b[1;33m\u001b[0m\u001b[0m\n\u001b[0;32m     17\u001b[0m \u001b[1;33m\u001b[0m\u001b[0m\n",
      "\u001b[1;32m~\\anaconda3\\lib\\site-packages\\matplotlib\\__init__.py\u001b[0m in \u001b[0;36minner\u001b[1;34m(ax, data, *args, **kwargs)\u001b[0m\n\u001b[0;32m   1445\u001b[0m     \u001b[1;32mdef\u001b[0m \u001b[0minner\u001b[0m\u001b[1;33m(\u001b[0m\u001b[0max\u001b[0m\u001b[1;33m,\u001b[0m \u001b[1;33m*\u001b[0m\u001b[0margs\u001b[0m\u001b[1;33m,\u001b[0m \u001b[0mdata\u001b[0m\u001b[1;33m=\u001b[0m\u001b[1;32mNone\u001b[0m\u001b[1;33m,\u001b[0m \u001b[1;33m**\u001b[0m\u001b[0mkwargs\u001b[0m\u001b[1;33m)\u001b[0m\u001b[1;33m:\u001b[0m\u001b[1;33m\u001b[0m\u001b[1;33m\u001b[0m\u001b[0m\n\u001b[0;32m   1446\u001b[0m         \u001b[1;32mif\u001b[0m \u001b[0mdata\u001b[0m \u001b[1;32mis\u001b[0m \u001b[1;32mNone\u001b[0m\u001b[1;33m:\u001b[0m\u001b[1;33m\u001b[0m\u001b[1;33m\u001b[0m\u001b[0m\n\u001b[1;32m-> 1447\u001b[1;33m             \u001b[1;32mreturn\u001b[0m \u001b[0mfunc\u001b[0m\u001b[1;33m(\u001b[0m\u001b[0max\u001b[0m\u001b[1;33m,\u001b[0m \u001b[1;33m*\u001b[0m\u001b[0mmap\u001b[0m\u001b[1;33m(\u001b[0m\u001b[0msanitize_sequence\u001b[0m\u001b[1;33m,\u001b[0m \u001b[0margs\u001b[0m\u001b[1;33m)\u001b[0m\u001b[1;33m,\u001b[0m \u001b[1;33m**\u001b[0m\u001b[0mkwargs\u001b[0m\u001b[1;33m)\u001b[0m\u001b[1;33m\u001b[0m\u001b[1;33m\u001b[0m\u001b[0m\n\u001b[0m\u001b[0;32m   1448\u001b[0m \u001b[1;33m\u001b[0m\u001b[0m\n\u001b[0;32m   1449\u001b[0m         \u001b[0mbound\u001b[0m \u001b[1;33m=\u001b[0m \u001b[0mnew_sig\u001b[0m\u001b[1;33m.\u001b[0m\u001b[0mbind\u001b[0m\u001b[1;33m(\u001b[0m\u001b[0max\u001b[0m\u001b[1;33m,\u001b[0m \u001b[1;33m*\u001b[0m\u001b[0margs\u001b[0m\u001b[1;33m,\u001b[0m \u001b[1;33m**\u001b[0m\u001b[0mkwargs\u001b[0m\u001b[1;33m)\u001b[0m\u001b[1;33m\u001b[0m\u001b[1;33m\u001b[0m\u001b[0m\n",
      "\u001b[1;32m~\\anaconda3\\lib\\site-packages\\matplotlib\\axes\\_axes.py\u001b[0m in \u001b[0;36mimshow\u001b[1;34m(self, X, cmap, norm, aspect, interpolation, alpha, vmin, vmax, origin, extent, filternorm, filterrad, resample, url, **kwargs)\u001b[0m\n\u001b[0;32m   5521\u001b[0m                               resample=resample, **kwargs)\n\u001b[0;32m   5522\u001b[0m \u001b[1;33m\u001b[0m\u001b[0m\n\u001b[1;32m-> 5523\u001b[1;33m         \u001b[0mim\u001b[0m\u001b[1;33m.\u001b[0m\u001b[0mset_data\u001b[0m\u001b[1;33m(\u001b[0m\u001b[0mX\u001b[0m\u001b[1;33m)\u001b[0m\u001b[1;33m\u001b[0m\u001b[1;33m\u001b[0m\u001b[0m\n\u001b[0m\u001b[0;32m   5524\u001b[0m         \u001b[0mim\u001b[0m\u001b[1;33m.\u001b[0m\u001b[0mset_alpha\u001b[0m\u001b[1;33m(\u001b[0m\u001b[0malpha\u001b[0m\u001b[1;33m)\u001b[0m\u001b[1;33m\u001b[0m\u001b[1;33m\u001b[0m\u001b[0m\n\u001b[0;32m   5525\u001b[0m         \u001b[1;32mif\u001b[0m \u001b[0mim\u001b[0m\u001b[1;33m.\u001b[0m\u001b[0mget_clip_path\u001b[0m\u001b[1;33m(\u001b[0m\u001b[1;33m)\u001b[0m \u001b[1;32mis\u001b[0m \u001b[1;32mNone\u001b[0m\u001b[1;33m:\u001b[0m\u001b[1;33m\u001b[0m\u001b[1;33m\u001b[0m\u001b[0m\n",
      "\u001b[1;32m~\\anaconda3\\lib\\site-packages\\matplotlib\\image.py\u001b[0m in \u001b[0;36mset_data\u001b[1;34m(self, A)\u001b[0m\n\u001b[0;32m    700\u001b[0m         if (self._A.dtype != np.uint8 and\n\u001b[0;32m    701\u001b[0m                 not np.can_cast(self._A.dtype, float, \"same_kind\")):\n\u001b[1;32m--> 702\u001b[1;33m             raise TypeError(\"Image data of dtype {} cannot be converted to \"\n\u001b[0m\u001b[0;32m    703\u001b[0m                             \"float\".format(self._A.dtype))\n\u001b[0;32m    704\u001b[0m \u001b[1;33m\u001b[0m\u001b[0m\n",
      "\u001b[1;31mTypeError\u001b[0m: Image data of dtype <U9 cannot be converted to float"
     ]
    },
    {
     "data": {
      "image/png": "[encoded data removed]",
      "text/plain": [
       "<Figure size 1296x576 with 10 Axes>"
      ]
     },
     "metadata": {
      "needs_background": "light"
     },
     "output_type": "display_data"
    }
   ],
   "source": [
    "# initiate a big figure\n",
    "# plt.figure(figsize=(18,8))\n",
    "\n",
    "f, ax = plt.subplots(5, 2, figsize = (18, 8))\n",
    "pant_list = ['pant.jfif', 'pant2.jfif', 'pant1.jfif', 'pant3.jfif', 'pant4.jfif', 'pant5.jfif']\n",
    "i = 0\n",
    "\n",
    "for i in range(5):\n",
    "    # plt.subplot(5, 2, 2*i+1)\n",
    "    # plt.imshow(pant_list[i])\n",
    "    # plt.subplot(5, 2, 2*i+2)\n",
    "    # plt.imshow(results[i])\n",
    "    # plt.show()\n",
    "    \n",
    "    ax[i][0].imshow(pant_list[i])\n",
    "    ax[i][1].imshow(results[i])\n",
    "    \n",
    "    i = i + 1\n",
    "    \n",
    "f.suptitle('Original images and its segmentation results')\n",
    "plt.show()"
   ]
  },
  {
   "cell_type": "code",
   "execution_count": null,
   "id": "e21ab8c3",
   "metadata": {},
   "outputs": [],
   "source": []
  }
 ],
 "metadata": {
  "kernelspec": {
   "display_name": "Python 3",
   "language": "python",
   "name": "python3"
  },
  "language_info": {
   "codemirror_mode": {
    "name": "ipython",
    "version": 3
   },
   "file_extension": ".py",
   "mimetype": "text/x-python",
   "name": "python",
   "nbconvert_exporter": "python",
   "pygments_lexer": "ipython3",
   "version": "3.8.8"
  }
 },
 "nbformat": 4,
 "nbformat_minor": 5
}
